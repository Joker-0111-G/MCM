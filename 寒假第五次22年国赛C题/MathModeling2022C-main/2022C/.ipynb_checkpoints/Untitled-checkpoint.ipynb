{
 "cells": [
  {
   "cell_type": "code",
   "execution_count": 1,
   "id": "9a6193bc",
   "metadata": {},
   "outputs": [],
   "source": [
    "import pandas as pd\n",
    "import numpy as np"
   ]
  },
  {
   "cell_type": "code",
   "execution_count": 2,
   "id": "85e4100e",
   "metadata": {},
   "outputs": [],
   "source": [
    "#导入数据\n",
    "df_jia = pd.read_excel(\"2_高钾.xlsx\")\n",
    "df_qian = pd.read_excel(\"2_铅.xlsx\")"
   ]
  },
  {
   "cell_type": "code",
   "execution_count": 30,
   "id": "1a1552c3",
   "metadata": {},
   "outputs": [],
   "source": [
    "data = df_jia.iloc[:,6:9]"
   ]
  },
  {
   "cell_type": "code",
   "execution_count": 31,
   "id": "a07b1e03",
   "metadata": {},
   "outputs": [
    {
     "data": {
      "text/plain": [
       "array([[ 3.93,  1.74,  3.87],\n",
       "       [ 4.06,  0.  ,  0.78],\n",
       "       [ 5.5 ,  2.16,  5.09],\n",
       "       [ 6.44,  2.06,  2.18],\n",
       "       [ 7.5 ,  2.62,  3.27],\n",
       "       [11.15,  2.39,  2.51],\n",
       "       [10.05,  6.04,  2.18],\n",
       "       [ 1.98,  0.17,  3.24],\n",
       "       [ 1.32,  0.32,  1.55],\n",
       "       [ 0.81,  0.26,  0.84],\n",
       "       [ 1.46,  0.29,  1.65],\n",
       "       [ 6.16,  2.88,  4.73],\n",
       "       [ 9.23,  0.5 ,  0.47],\n",
       "       [ 3.15,  1.04,  1.29],\n",
       "       [ 6.18,  0.42,  1.07],\n",
       "       [ 0.  ,  1.04,  1.09],\n",
       "       [ 3.05,  0.  ,  0.  ],\n",
       "       [ 6.19,  2.37,  3.28],\n",
       "       [ 3.5 ,  0.35,  0.55],\n",
       "       [ 2.51,  0.2 ,  1.54]])"
      ]
     },
     "execution_count": 31,
     "metadata": {},
     "output_type": "execute_result"
    }
   ],
   "source": [
    "data=data.values\n",
    "data"
   ]
  },
  {
   "cell_type": "code",
   "execution_count": 10,
   "id": "b8356a67",
   "metadata": {},
   "outputs": [],
   "source": [
    "#Topsis函数定义\n",
    "#0 极大型 \n",
    "#1 极小型\n",
    "#2 中间型 额外标志：Xbest #PS:个人感觉，中间型的转换，本质上是先转换成极小型再转换成极大型\n",
    "#3 区间型 额外标志：[a,b]区间 #正向化的方法是不唯一的，这里参考网课上的\n",
    "#正向化\n",
    "def ForwardDirection(m,y):#m表示输入矩阵，y表示指标类型\n",
    "    num=len(y)\n",
    "    for i in range(num):\n",
    "        #i代表着第i个指标，对应着m的第i列（从0计数）\n",
    "        labeltype=y[i]\n",
    "        if(labeltype[0]==0):\n",
    "            print(\"第\",i+1,\"个指标为极大型指标，无需正向化\")\n",
    "        elif(labeltype[0]==1):\n",
    "            print(\"第\",i+1,\"个指标为极小型指标，进行正向化\")\n",
    "            maxnum=np.amax(m,axis=0)#返回每一列元素的最大值\n",
    "            maxnum=maxnum[i]\n",
    "            m[:,i]= maxnum-m[:,i]\n",
    "        elif(labeltype[0]==2):\n",
    "            print(\"第\",i+1,\"个指标为中间型指标，进行正向化\")\n",
    "            xbest=labeltype[1]\n",
    "            M=np.max(np.abs(m[:,i]-xbest))\n",
    "            m[:,i]=(1-np.abs(m[:,i]-xbest)/M)\n",
    "        elif(labeltype[0]==3):\n",
    "            print(\"第\",i+1,\"个指标为区间型指标，进行正向化\")\n",
    "            a=labeltype[1]\n",
    "            b=labeltype[2]\n",
    "           # print(\"a,b:\",a,b)\n",
    "            minx=np.min(m[:,i])\n",
    "            maxx=np.max(m[:,i])\n",
    "            #print(m[:,i])\n",
    "           # print(\"min,max\",minx,maxx)\n",
    "            M=max(a-minx,maxx-b)\n",
    "            col=len(m[:,i])\n",
    "            for j in range(col):\n",
    "                if(m[j,i]<a):\n",
    "                    m[j,i]=1-(a-m[j,i])/M\n",
    "                elif(m[j,i]<=b and m[j,i]>=a):\n",
    "                    m[j,i]=1\n",
    "                elif(m[j,i]>b):\n",
    "                    m[j,i]=1-(m[j,i]-b)/M\n",
    "    return m\n",
    "\n",
    "def Standardize(m):#m为输入矩阵，且已经正向化\n",
    "    \n",
    "    #第一步，先把m中元素乘方\n",
    "    temp_all=np.power(m,2)\n",
    "\n",
    "    #第二步，按列求和得到一个行向量\n",
    "    temp_all=np.sum(temp_all,axis=0)#在第一个轴展开方向上求和\n",
    "\n",
    "    #第三步，将行向量元素开方\n",
    "    temp_all=np.power(temp_all,1/2)\n",
    "\n",
    "    #第四步，将m中每一列元素除以第三部中行向量对应列元素\n",
    "    for i in range(len(temp_all)):\n",
    "        m[:,i]=m[:,i]/temp_all[i]\n",
    "       \n",
    "    return m\n",
    "\n",
    "#计算得分\n",
    "def getGrade(m,w):#m为输入矩阵，且已经标准化\n",
    "    \n",
    "    #第一步，得到每一列的最大值Zmax与最小值Zmin\n",
    "    Zmax=np.max(m,axis=0)\n",
    "    Zmin=np.min(m,axis=0)\n",
    "    \n",
    "    #第二步，通过ZmaxZmin得到每个样本（即本例中的小王小明等）的每个指标到各个指标最大值的距离与到最小值的距离\n",
    "        #1.将m中的每一列元素减去Zmax/Zmin中对应列的值\n",
    "        #2.然后将结果乘方\n",
    "        #3.按列方向展开求和\n",
    "        #4.再开方，从而得到每个评价对象（即样本）的Dmax与Dmin（注意：这里的算法我还没有算上权重）\n",
    "    Dmax = np.subtract(m,Zmax)#Zmax是行向量，这里有广播\n",
    "   # print(Dmax)\n",
    "    Dmin = np.subtract(m,Zmin)#同上\n",
    "    Dmax=np.power(Dmax,2)\n",
    "    Dmin=np.power(Dmin,2)\n",
    "    \n",
    "    Dmax=Dmax*w\n",
    "    Dmin=Dmin*w\n",
    "    \n",
    "    Dmax=np.sum(Dmax,axis=1)\n",
    "    Dmin=np.sum(Dmin,axis=1)\n",
    " \n",
    "    Dmax=np.power(Dmax,1/2)\n",
    "    Dmin=np.power(Dmin,1/2)\n",
    "    #print(\"Dmax,Dmin\",Dmax,\"\\n\",Dmin)\n",
    "    #第三步，根据公式：分数=到最小值距离/(到最大值距离+到最小值距离)，算出每个评价对象的综合得分S\n",
    "    S=Dmin/(Dmax+Dmin)\n",
    "    #print(S)\n",
    "    #第四步，对得分进行归一化\n",
    "    S_sum=np.sum(S,axis=0)\n",
    "    S=S/S_sum\n",
    "    return S"
   ]
  },
  {
   "cell_type": "code",
   "execution_count": 11,
   "id": "6a582207",
   "metadata": {},
   "outputs": [
    {
     "name": "stdout",
     "output_type": "stream",
     "text": [
      "第 1 个指标为极小型指标，进行正向化\n",
      "第 2 个指标为极小型指标，进行正向化\n",
      "第 3 个指标为极小型指标，进行正向化\n"
     ]
    }
   ],
   "source": [
    "data=np.array(data,dtype=np.float32)\n",
    "label=[[1],[1],[1]]\n",
    "w=[1/3,1/3,1/3]*data.shape[0]\n",
    "\n",
    "data=ForwardDirection(data,label)\n",
    "data=Standardize(data)\n",
    "S=getGrade(data,w)"
   ]
  },
  {
   "cell_type": "code",
   "execution_count": 13,
   "id": "bbda6173",
   "metadata": {},
   "outputs": [],
   "source": [
    "S_df = pd.DataFrame(S,columns=['Topsis得分'])\n",
    "S_df.to_excel(excel_writer=r\"2022C数据处理1.xlsx\")"
   ]
  },
  {
   "cell_type": "code",
   "execution_count": 16,
   "id": "cb802048",
   "metadata": {},
   "outputs": [],
   "source": [
    "w=[[1/3,1/3,1/3]]*data.shape[0]"
   ]
  },
  {
   "cell_type": "code",
   "execution_count": 35,
   "id": "bd2a7655",
   "metadata": {},
   "outputs": [
    {
     "ename": "SyntaxError",
     "evalue": "cannot assign to function call (2184063429.py, line 3)",
     "output_type": "error",
     "traceback": [
      "\u001b[1;36m  Input \u001b[1;32mIn [35]\u001b[1;36m\u001b[0m\n\u001b[1;33m    w(i[0],i[1])=0\u001b[0m\n\u001b[1;37m    ^\u001b[0m\n\u001b[1;31mSyntaxError\u001b[0m\u001b[1;31m:\u001b[0m cannot assign to function call\n"
     ]
    }
   ],
   "source": [
    "index = np.argwhere(data == 0)\n",
    "for i in index:\n",
    "    w(i[0],i[1])=0\n",
    "w"
   ]
  },
  {
   "cell_type": "code",
   "execution_count": 23,
   "id": "ee3dfe00",
   "metadata": {},
   "outputs": [
    {
     "data": {
      "text/plain": [
       "array([[2, 2],\n",
       "       [5, 0],\n",
       "       [6, 1]], dtype=int64)"
      ]
     },
     "execution_count": 23,
     "metadata": {},
     "output_type": "execute_result"
    }
   ],
   "source": [
    "data"
   ]
  },
  {
   "cell_type": "code",
   "execution_count": null,
   "id": "e96d5f62",
   "metadata": {},
   "outputs": [],
   "source": []
  }
 ],
 "metadata": {
  "kernelspec": {
   "display_name": "MathModeling",
   "language": "python",
   "name": "mathmodeling"
  },
  "language_info": {
   "codemirror_mode": {
    "name": "ipython",
    "version": 3
   },
   "file_extension": ".py",
   "mimetype": "text/x-python",
   "name": "python",
   "nbconvert_exporter": "python",
   "pygments_lexer": "ipython3",
   "version": "3.8.13"
  }
 },
 "nbformat": 4,
 "nbformat_minor": 5
}
